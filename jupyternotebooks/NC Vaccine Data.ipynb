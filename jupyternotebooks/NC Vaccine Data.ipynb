{
 "cells": [
  {
   "cell_type": "code",
   "execution_count": 1,
   "metadata": {},
   "outputs": [],
   "source": [
    "import requests\n",
    "import json\n",
    "import pandas as pd"
   ]
  },
  {
   "cell_type": "code",
   "execution_count": 4,
   "metadata": {},
   "outputs": [],
   "source": [
    "# Retrieve the 1000 most recent North Carolina county Covid vaccination updates from the CDC api\n",
    "allData = json.loads(requests.get(\"https://data.cdc.gov/resource/8xkx-amqh.json?recip_state=NC\").text)"
   ]
  },
  {
   "cell_type": "code",
   "execution_count": 5,
   "metadata": {},
   "outputs": [],
   "source": [
    "finalData = []\n",
    "seenCounties = []\n",
    "\n",
    "# for each data point in the api list (looping from most recent to less recent)\n",
    "for entry in allData:\n",
    "    \n",
    "    # check to see if the county has already been seen \n",
    "    if entry['recip_county'] not in seenCounties:\n",
    "        \n",
    "        # append useful data with easier to understand headers\n",
    "        finalData.append({\n",
    "        \"County\":entry['recip_county'],\n",
    "        \"Percent Fully Vaccinated\":float(entry['series_complete_pop_pct']),\n",
    "        \"Population Fully Vaccinated\":int(entry['series_complete_yes']),\n",
    "        \"Percent with 1+ Dose\":float(entry['administered_dose1_pop_pct']),\n",
    "        \"Population with 1+ Dose\":int(entry['administered_dose1_recip'])\n",
    "    })\n",
    "        \n",
    "        # add the county to the list of previously seen counties\n",
    "        seenCounties.append(entry['recip_county'])\n",
    "        \n",
    "        # if all 101 counties have been seen (including 100 NC counties and 1 \"Unknown County\") then stop searching\n",
    "        if len(seenCounties) > 100:\n",
    "            break"
   ]
  },
  {
   "cell_type": "code",
   "execution_count": 6,
   "metadata": {},
   "outputs": [],
   "source": [
    "# sort data by county name\n",
    "finalData = sorted(finalData, key=lambda e:e['County'])"
   ]
  },
  {
   "cell_type": "code",
   "execution_count": 7,
   "metadata": {},
   "outputs": [],
   "source": [
    "# create dataframe\n",
    "df = pd.DataFrame()\n",
    "df = df.from_dict(finalData)"
   ]
  },
  {
   "cell_type": "code",
   "execution_count": 8,
   "metadata": {},
   "outputs": [
    {
     "name": "stdout",
     "output_type": "stream",
     "text": [
      "             County  Percent Fully Vaccinated  Population Fully Vaccinated  \\\n",
      "0   Alamance County                      42.0                        71215   \n",
      "1  Alexander County                      33.5                        12574   \n",
      "2  Alleghany County                      43.1                         4805   \n",
      "3      Anson County                      20.8                         5088   \n",
      "4       Ashe County                      38.7                        10519   \n",
      "5      Avery County                      40.1                         7036   \n",
      "6   Beaufort County                      40.4                        18998   \n",
      "7     Bertie County                      33.4                         6330   \n",
      "8     Bladen County                      24.6                         8046   \n",
      "9  Brunswick County                      46.9                        66922   \n",
      "\n",
      "   Percent with 1+ Dose  Population with 1+ Dose  \n",
      "0                  47.4                    80416  \n",
      "1                  37.2                    13957  \n",
      "2                  51.4                     5720  \n",
      "3                  29.4                     7190  \n",
      "4                  45.9                    12491  \n",
      "5                  46.1                     8098  \n",
      "6                  45.1                    21202  \n",
      "7                  44.2                     8375  \n",
      "8                  31.4                    10263  \n",
      "9                  55.7                    79520  \n"
     ]
    }
   ],
   "source": [
    "# print the first 10 entries in the dataframe\n",
    "print(df.head(10))"
   ]
  }
 ],
 "metadata": {
  "kernelspec": {
   "display_name": "Python 3.7",
   "language": "python",
   "name": "python3"
  },
  "language_info": {
   "codemirror_mode": {
    "name": "ipython",
    "version": 3
   },
   "file_extension": ".py",
   "mimetype": "text/x-python",
   "name": "python",
   "nbconvert_exporter": "python",
   "pygments_lexer": "ipython3",
   "version": "3.7.10"
  }
 },
 "nbformat": 4,
 "nbformat_minor": 1
}
